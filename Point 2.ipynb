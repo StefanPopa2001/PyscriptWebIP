{
 "cells": [
  {
   "cell_type": "markdown",
   "metadata": {},
   "source": [
    "Méthode qui vérifie la validité du masque"
   ]
  },
  {
   "cell_type": "code",
   "execution_count": 161,
   "metadata": {},
   "outputs": [],
   "source": [
    "import ipaddress\n",
    "from ipaddress import IPv4Interface"
   ]
  },
  {
   "cell_type": "code",
   "execution_count": 162,
   "metadata": {},
   "outputs": [],
   "source": [
    "IP_Machine_A = \"192 162 84 100\"\n",
    "Masque_Machine_A = \"255 255 255 128\"\n",
    "\n",
    "def getNotationCIDR(masque):\n",
    "\n",
    "    compteur = 0\n",
    "\n",
    "    masqueDivise = masque.split()\n",
    "\n",
    "    for octet in masqueDivise:\n",
    "        octetBinare = bin(int(octet))[2:]\n",
    "        \n",
    "        for bit in octetBinare:\n",
    "            if(bit == '1'):\n",
    "                compteur = compteur +1\n",
    "\n",
    "    \n",
    "    return compteur  \n",
    "\n",
    "Masque_Machine_A = getNotationCIDR(Masque_Machine_A)"
   ]
  },
  {
   "cell_type": "code",
   "execution_count": 163,
   "metadata": {},
   "outputs": [],
   "source": [
    "def trouver_Broadcast(IP,Masque):\n",
    "    IP = IP.replace(\" \",\".\")\n",
    "    ipn= ipaddress.ip_network(str(IP)+\"/\"+str(Masque),strict=False)\n",
    "    return ipn.broadcast_address"
   ]
  },
  {
   "cell_type": "code",
   "execution_count": 164,
   "metadata": {},
   "outputs": [],
   "source": [
    "def trouver_Adresse_Reseau(IP,Masque):\n",
    "    IP = IP.replace(\" \",\".\")\n",
    "    ifc = IPv4Interface(str(IP)+\"/\"+str(Masque))\n",
    "    return(ifc.network)\n"
   ]
  },
  {
   "cell_type": "code",
   "execution_count": 165,
   "metadata": {},
   "outputs": [],
   "source": [
    "def trouver_SR(IP,Masque):\n",
    "    IP = IP.replace(\" \",\".\")\n",
    "    ipn = ipaddress.ip_network(str(IP)+\"/\"+str(Masque),strict=False)\n",
    "\n",
    "    return (list(ipn.subnets())[0])\n",
    "\n",
    "    \n"
   ]
  },
  {
   "cell_type": "code",
   "execution_count": 166,
   "metadata": {},
   "outputs": [
    {
     "data": {
      "text/plain": [
       "IPv4Address('192.162.84.127')"
      ]
     },
     "execution_count": 166,
     "metadata": {},
     "output_type": "execute_result"
    }
   ],
   "source": [
    "trouver_Broadcast(IP_Machine_A,Masque_Machine_A)\n",
    "\n"
   ]
  },
  {
   "cell_type": "code",
   "execution_count": 167,
   "metadata": {},
   "outputs": [
    {
     "data": {
      "text/plain": [
       "IPv4Network('192.162.84.0/25')"
      ]
     },
     "execution_count": 167,
     "metadata": {},
     "output_type": "execute_result"
    }
   ],
   "source": [
    "trouver_Adresse_Reseau(IP_Machine_A,Masque_Machine_A)"
   ]
  },
  {
   "cell_type": "code",
   "execution_count": 168,
   "metadata": {},
   "outputs": [
    {
     "data": {
      "text/plain": [
       "IPv4Network('192.162.84.0/26')"
      ]
     },
     "execution_count": 168,
     "metadata": {},
     "output_type": "execute_result"
    }
   ],
   "source": [
    "trouver_SR(IP_Machine_A,Masque_Machine_A)"
   ]
  }
 ],
 "metadata": {
  "kernelspec": {
   "display_name": "Python 3.10.7 64-bit",
   "language": "python",
   "name": "python3"
  },
  "language_info": {
   "codemirror_mode": {
    "name": "ipython",
    "version": 3
   },
   "file_extension": ".py",
   "mimetype": "text/x-python",
   "name": "python",
   "nbconvert_exporter": "python",
   "pygments_lexer": "ipython3",
   "version": "3.10.7"
  },
  "orig_nbformat": 4,
  "vscode": {
   "interpreter": {
    "hash": "efefc661cc5fd2648ab9debb734f6761e4de0e852bf9ec0690efb7048bae9b24"
   }
  }
 },
 "nbformat": 4,
 "nbformat_minor": 2
}
