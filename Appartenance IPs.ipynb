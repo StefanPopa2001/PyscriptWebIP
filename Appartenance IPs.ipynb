{
 "cells": [
  {
   "cell_type": "code",
   "execution_count": 263,
   "metadata": {},
   "outputs": [],
   "source": [
    "import ipaddress\n",
    "import outils"
   ]
  },
  {
   "cell_type": "code",
   "execution_count": 264,
   "metadata": {},
   "outputs": [],
   "source": [
    "def getNotationCIDR(masque):\n",
    "\n",
    "    compteur = 0\n",
    "\n",
    "    masqueDivise = masque.split()\n",
    "\n",
    "    for octet in masqueDivise:\n",
    "        octetBinare = bin(int(octet))[2:]\n",
    "        \n",
    "        for bit in octetBinare:\n",
    "            if(bit == '1'):\n",
    "                compteur = compteur +1\n",
    "\n",
    "    \n",
    "    return compteur  "
   ]
  },
  {
   "cell_type": "code",
   "execution_count": 265,
   "metadata": {},
   "outputs": [],
   "source": [
    "def appartenance_IP_Reseau(IPMachine, MasqueMachine, IPReseau):\n",
    "    if(len(MasqueMachine)>3):\n",
    "        MasqueMachine = \"/\",str(getNotationCIDR(MasqueMachine))\n",
    "\n",
    "    IPMachine = IPMachine.replace(\" \",\".\")\n",
    "    IPReseau = IPReseau.replace(\" \",\".\")\n",
    "    IPMachine = IPMachine+MasqueMachine[0]+MasqueMachine[1]\n",
    "\n",
    "    ipn1 = ipaddress.ip_network(IPMachine,strict=False)\n",
    "    ipn2 = ipaddress.ip_network(IPReseau)\n",
    "\n",
    "    return(ipn1.overlaps(ipn2))\n",
    "\n"
   ]
  },
  {
   "cell_type": "markdown",
   "metadata": {},
   "source": [
    "Tests\n"
   ]
  },
  {
   "cell_type": "code",
   "execution_count": 266,
   "metadata": {},
   "outputs": [
    {
     "name": "stdout",
     "output_type": "stream",
     "text": [
      "Test avec des ip normales 1 True\n",
      "Test avec des ip normales 2 True\n",
      "Test avec des ip normales 3 False\n",
      "Test avec des ip normales 4 True\n",
      "Données invalides\n",
      "Données invalides\n",
      "Données invalides\n",
      "Données invalides\n"
     ]
    }
   ],
   "source": [
    "print(\"Test avec des ip normales 1\",appartenance_IP_Reseau(\"10 10 1 32\",\"255 255 255 0\",\"10 10 1 32\"))\n",
    "print(\"Test avec des ip normales 2\",appartenance_IP_Reseau(\"20 20 2 24\",\"255 255 0 0\",\"20 20 1 32\"))\n",
    "print(\"Test avec des ip normales 3\",appartenance_IP_Reseau(\"20 20 2 24\",\"255 255 255 0\",\"20 20 1 32\"))\n",
    "print(\"Test avec des ip normales 4\",appartenance_IP_Reseau(\"30 30 3 33\",\"255 255 255 128\",\"30 30 3 34\"))\n",
    "\n",
    "try:\n",
    "    print(\"Test avec des ip anormales \",appartenance_IP_Reseau(\"600 10 1 32\",\"255 255 255 0\",\"10 10 1 32\"))\n",
    "except:\n",
    "    print(\"Données invalides\")\n",
    "\n",
    "try:\n",
    "    print(\"Test avec des masques anormales 1\",appartenance_IP_Reseau(\"600 10 1 32\",\"300 255 255 0\",\"10 10 1 32\"))\n",
    "except:\n",
    "    print(\"Données invalides\")\n",
    "\n",
    "try:\n",
    "    print(\"Test avec des masques anormales 2\",appartenance_IP_Reseau(\"600 10 1 32\",\"/25\",\"10 10 1 32\"))\n",
    "except:\n",
    "    print(\"Données invalides\")\n",
    "\n",
    "try:\n",
    "    print(\"Test avec des lettres\",appartenance_IP_Reseau(\"a 10 1 32\",\"/25\",\"10 10 1 32\"))\n",
    "except:\n",
    "    print(\"Données invalides\")"
   ]
  }
 ],
 "metadata": {
  "kernelspec": {
   "display_name": "Python 3.10.7 64-bit",
   "language": "python",
   "name": "python3"
  },
  "language_info": {
   "codemirror_mode": {
    "name": "ipython",
    "version": 3
   },
   "file_extension": ".py",
   "mimetype": "text/x-python",
   "name": "python",
   "nbconvert_exporter": "python",
   "pygments_lexer": "ipython3",
   "version": "3.10.7"
  },
  "orig_nbformat": 4,
  "vscode": {
   "interpreter": {
    "hash": "efefc661cc5fd2648ab9debb734f6761e4de0e852bf9ec0690efb7048bae9b24"
   }
  }
 },
 "nbformat": 4,
 "nbformat_minor": 2
}
