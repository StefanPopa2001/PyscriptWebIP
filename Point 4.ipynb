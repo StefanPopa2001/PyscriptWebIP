{
 "cells": [
  {
   "cell_type": "markdown",
   "metadata": {},
   "source": [
    "Méthode qui vérifie la validité du masque"
   ]
  },
  {
   "cell_type": "code",
   "execution_count": 87,
   "metadata": {},
   "outputs": [],
   "source": [
    "import re \n",
    "import ipaddress"
   ]
  },
  {
   "cell_type": "code",
   "execution_count": 88,
   "metadata": {},
   "outputs": [],
   "source": [
    "IP_Machine_A = \"255 255 255 20\"\n",
    "Masque_Machine_A = \"255 255 255 0\"\n",
    "Masque_CIDR_Machine_A = \"\"\n",
    "\n",
    "IP_Machine_B = \"255 255 255 20\"\n",
    "Masque_Machine_B = \"\"\n",
    "Masque_CIDR_Machine_B = \"/24\""
   ]
  },
  {
   "cell_type": "markdown",
   "metadata": {},
   "source": [
    "Tests :"
   ]
  },
  {
   "cell_type": "code",
   "execution_count": 89,
   "metadata": {},
   "outputs": [
    {
     "name": "stdout",
     "output_type": "stream",
     "text": [
      "Prise en charge du masque classique\n",
      "Prise en charge du masque CIDR\n"
     ]
    },
    {
     "data": {
      "text/plain": [
       "True"
      ]
     },
     "execution_count": 89,
     "metadata": {},
     "output_type": "execute_result"
    }
   ],
   "source": [
    "#Vérifier l'intégrité d'un masque classique\n",
    "def verifier_intergrite_masque_classique(masque):\n",
    "    masqueValide = True\n",
    "\n",
    "    maskInString = str(masque)\n",
    "    if (re.search('[a-zA-Z_]',maskInString)):\n",
    "        masqueValide = False\n",
    "        return masqueValide\n",
    "\n",
    "    masque = masque.split()\n",
    "\n",
    "    if(len(masque)!=4 or maskInString.replace(\" \",\"\")==\"\"):\n",
    "        masqueValide = False\n",
    "        return masqueValide\n",
    "\n",
    "    for octet in masque:\n",
    "        if (octet>255 or octet <0):\n",
    "            masqueValide = False\n",
    "            return masqueValide\n",
    "        \n",
    "    x = range(1,4)\n",
    "    for n in x:\n",
    "        if(masque[n]>masque[n-1]):\n",
    "            masqueValide = False\n",
    "    return masqueValide\n",
    "\n",
    "#Vérifier l'intégrité d'un masque CIDR\n",
    "def verifier_integrite_masque_CIDR(masque):\n",
    "    valid = True\n",
    "\n",
    "    masque_decoupe = str(masque).replace(\"/\",\"\")\n",
    "    masque_decoupe = int(masque_decoupe)\n",
    "    \n",
    "    if(masque_decoupe<0 or masque_decoupe >32):\n",
    "        return False\n",
    "\n",
    "    return valid\n",
    "\n",
    "#Transforme un masque classique en masque CIDR\n",
    "def getNotationCIDR(masque):\n",
    "    compteur = 0\n",
    "    masqueDivise = masque.split()\n",
    "    for octet in masqueDivise:\n",
    "        octetBinare = bin(int(octet))[2:]\n",
    "        for bit in octetBinare:\n",
    "            if(bit == '1'):\n",
    "                compteur = compteur +1\n",
    "    return \"/\"+str(compteur) \n",
    "\n",
    "def trouver_masque(masque_classique,masque_CIDR):\n",
    "\n",
    "    if(masque_classique==\"\" and masque_CIDR!=\"\"):\n",
    "        print(\"Prise en charge du masque CIDR\")\n",
    "        return masque_CIDR\n",
    "\n",
    "\n",
    "    elif(masque_CIDR==\"\" and masque_classique!=\"\"):\n",
    "        print(\"Prise en charge du masque classique\")\n",
    "        return getNotationCIDR(masque_classique)\n",
    "\n",
    "    elif(masque_classique!=\"\" and masque_CIDR!=\"\"):\n",
    "        print(\"Double masque - prise du masque CIDR\")\n",
    "        return masque_CIDR\n",
    "\n",
    "    \n",
    "def getConsidereDansLeReseau(IP1,masque1,IP2,masque2):\n",
    "    IP1 = IP1.replace(\" \",\".\")\n",
    "    IP2 = IP2.replace(\" \",\".\")\n",
    "    ipn1 = ipaddress.ip_network(str(IP1)+\"\"+str(masque1),strict=False)\n",
    "    ipn2 = ipaddress.ip_network(str(IP2)+\"\"+str(masque2),strict=False)\n",
    "\n",
    "    return(ipn1.subnet_of(ipn2))\n",
    "\n",
    "getConsidereDansLeReseau(IP_Machine_A,trouver_masque(Masque_Machine_A,Masque_CIDR_Machine_A),IP_Machine_B,trouver_masque(Masque_Machine_B,Masque_CIDR_Machine_B))"
   ]
  }
 ],
 "metadata": {
  "kernelspec": {
   "display_name": "Python 3.10.7 64-bit",
   "language": "python",
   "name": "python3"
  },
  "language_info": {
   "codemirror_mode": {
    "name": "ipython",
    "version": 3
   },
   "file_extension": ".py",
   "mimetype": "text/x-python",
   "name": "python",
   "nbconvert_exporter": "python",
   "pygments_lexer": "ipython3",
   "version": "3.10.7"
  },
  "orig_nbformat": 4,
  "vscode": {
   "interpreter": {
    "hash": "efefc661cc5fd2648ab9debb734f6761e4de0e852bf9ec0690efb7048bae9b24"
   }
  }
 },
 "nbformat": 4,
 "nbformat_minor": 2
}
