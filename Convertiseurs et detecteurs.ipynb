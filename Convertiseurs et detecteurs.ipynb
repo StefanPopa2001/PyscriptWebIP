{
 "cells": [
  {
   "cell_type": "markdown",
   "metadata": {},
   "source": [
    "Méthode qui vérifie la validité du masque"
   ]
  },
  {
   "cell_type": "code",
   "execution_count": 41,
   "metadata": {},
   "outputs": [],
   "source": [
    "import re \n",
    "\n",
    "def verifierIntegriteMasque(masque):\n",
    "    masqueValide = True\n",
    "\n",
    "    maskInString = str(masque)\n",
    "    if (re.search('[a-zA-Z_]',maskInString)):\n",
    "        masqueValide = False\n",
    "        return masqueValide\n",
    "\n",
    "    if(len(masque)!=4 or maskInString.replace(\" \",\"\")==\"\"):\n",
    "        masqueValide = False\n",
    "        return masqueValide\n",
    "\n",
    "    for octet in masque:\n",
    "        if (octet>255 or octet <0):\n",
    "            masqueValide = False\n",
    "            return masqueValide\n",
    "        \n",
    "    x = range(1,4)\n",
    "    for n in x:\n",
    "        if(masque[n]>masque[n-1]):\n",
    "            masqueValide = False\n",
    "    return masqueValide\n"
   ]
  },
  {
   "cell_type": "code",
   "execution_count": 42,
   "metadata": {},
   "outputs": [
    {
     "name": "stdout",
     "output_type": "stream",
     "text": [
      "Test avec un masque négatif ==>  False\n",
      "Test avec un masque incomplet ==>  False\n",
      "Test avec un masque vide ==>  False\n",
      "Test avec des espaces ==>  False\n",
      "Test avec des lettres ==>  False\n",
      "Test avec un masque incohérant 1 ==> False\n",
      "Test avec un masque incohérant 2 ==> False\n",
      "Test avec un masque incohérant 3 ==> False\n",
      "Test avec un masque normal ==> True\n"
     ]
    }
   ],
   "source": [
    "print(\"Test avec un masque négatif ==> \",verifierIntegriteMasque([255,255,255,-1]))\n",
    "print(\"Test avec un masque incomplet ==> \",verifierIntegriteMasque([255]))\n",
    "print(\"Test avec un masque vide ==> \",verifierIntegriteMasque(\"\"))\n",
    "print(\"Test avec des espaces ==> \",verifierIntegriteMasque(\" \"))\n",
    "print(\"Test avec des lettres ==> \",verifierIntegriteMasque([\"Bonjour\",255,0,0]))\n",
    "print(\"Test avec un masque incohérant 1 ==>\",verifierIntegriteMasque([255,-1,255,0]))\n",
    "print(\"Test avec un masque incohérant 2 ==>\",verifierIntegriteMasque([300,255,255,0]))\n",
    "print(\"Test avec un masque incohérant 3 ==>\",verifierIntegriteMasque([128,254,255,65]))\n",
    "print(\"Test avec un masque normal ==>\",verifierIntegriteMasque([255,255,255,0]))"
   ]
  },
  {
   "cell_type": "markdown",
   "metadata": {},
   "source": [
    "Méthode renvoyant la notation cidr d'un masque"
   ]
  },
  {
   "cell_type": "code",
   "execution_count": 43,
   "metadata": {},
   "outputs": [],
   "source": [
    "def getNotationCIDR(masque):\n",
    "\n",
    "    compteur = 0\n",
    "\n",
    "    for octet in masque:\n",
    "        octetBinare = bin(int(octet))[2:]\n",
    "        \n",
    "        for bit in octetBinare:\n",
    "            if(bit == '1'):\n",
    "                compteur = compteur +1\n",
    "\n",
    "    \n",
    "    return compteur"
   ]
  },
  {
   "cell_type": "code",
   "execution_count": 44,
   "metadata": {},
   "outputs": [
    {
     "name": "stdout",
     "output_type": "stream",
     "text": [
      "Test masque cidr 1 ==>  24\n"
     ]
    }
   ],
   "source": [
    "print(\"Test masque cidr 1 ==> \",getNotationCIDR([255,255,255,0]))"
   ]
  },
  {
   "cell_type": "markdown",
   "metadata": {},
   "source": [
    "Méthode renvoyant le masque classique depuis un masque cidr\n"
   ]
  },
  {
   "cell_type": "code",
   "execution_count": 45,
   "metadata": {},
   "outputs": [],
   "source": [
    "import ipaddress\n",
    "\n",
    "def getNormalMask(masqueCIDR):\n",
    "    if(masqueCIDR<0 or masqueCIDR>32):\n",
    "        return False\n",
    "    masque = \"0.0.0.0/\"+str(masqueCIDR)\n",
    "    masqueNormal = ipaddress.ip_network(masque,strict = False)\n",
    "    resultat = str(masqueNormal.with_netmask).replace(\"0.0.0.0/\",\"\")\n",
    "    return(resultat)"
   ]
  },
  {
   "cell_type": "code",
   "execution_count": 46,
   "metadata": {},
   "outputs": [
    {
     "name": "stdout",
     "output_type": "stream",
     "text": [
      "Test masque normal 1 ==>  255.255.255.0\n",
      "Test masque normal 2 ==>  255.255.255.255\n",
      "Test masque normal 3 ==>  False\n",
      "Test masque normal 4 ==>  0.0.0.0\n"
     ]
    }
   ],
   "source": [
    "print(\"Test masque normal 1 ==> \",getNormalMask(24))\n",
    "print(\"Test masque normal 2 ==> \",getNormalMask(32))\n",
    "print(\"Test masque normal 3 ==> \",getNormalMask(33))\n",
    "print(\"Test masque normal 4 ==> \",getNormalMask(0))"
   ]
  },
  {
   "cell_type": "code",
   "execution_count": 47,
   "metadata": {},
   "outputs": [],
   "source": [
    "import re \n",
    "\n",
    "def verifierIntegriteIP(adresseIP):\n",
    "    IPValide = True\n",
    "\n",
    "    IPString = str(adresseIP)\n",
    "\n",
    "    if (re.search('[a-zA-Z_]',IPString)):\n",
    "        IPValide = False\n",
    "        return IPValide\n",
    "\n",
    "    if(len(adresseIP)!=4 or IPString.replace(\" \",\"\")==\"\"):\n",
    "        IPValide = False\n",
    "        return IPValide\n",
    "\n",
    "    for octet in adresseIP:\n",
    "        if (octet>255 or octet <0):\n",
    "            IPValide = False\n",
    "            return IPValide\n",
    "\n",
    "    return IPValide"
   ]
  },
  {
   "cell_type": "code",
   "execution_count": 48,
   "metadata": {},
   "outputs": [
    {
     "name": "stdout",
     "output_type": "stream",
     "text": [
      "['0', '0', '0', '0']\n",
      "Test avec une IP négatif ==>  False\n",
      "Test avec un IP incomplet ==>  False\n",
      "Test avec un IP vide ==>  False\n",
      "Test avec des espaces ==>  False\n",
      "Test avec des lettres ==>  False\n",
      "Test avec un IP incohérant 1 ==> False\n",
      "Test avec un IP incohérant 2 ==> False\n",
      "Test avec un IP normal ==> True\n"
     ]
    }
   ],
   "source": [
    "ip = \"0 0 0 0\"\n",
    "\n",
    "ip = ip.split()\n",
    "\n",
    "print(ip)\n",
    "\n",
    "print(\"Test avec une IP négatif ==> \",verifierIntegriteIP([255,255,255,-1]))\n",
    "print(\"Test avec un IP incomplet ==> \",verifierIntegriteIP([255]))\n",
    "print(\"Test avec un IP vide ==> \",verifierIntegriteIP(\"\"))\n",
    "print(\"Test avec des espaces ==> \",verifierIntegriteIP(\" \"))\n",
    "print(\"Test avec des lettres ==> \",verifierIntegriteIP([\"Bonjour\",255,0,0]))\n",
    "print(\"Test avec un IP incohérant 1 ==>\",verifierIntegriteIP([255,-1,255,0]))\n",
    "print(\"Test avec un IP incohérant 2 ==>\",verifierIntegriteIP([300,255,255,0]))\n",
    "print(\"Test avec un IP normal ==>\",verifierIntegriteIP([255,255,255,0]))\n"
   ]
  },
  {
   "cell_type": "code",
   "execution_count": 50,
   "metadata": {},
   "outputs": [],
   "source": [
    "def TrouverAdresseSousReseau(ip,masque):\n",
    "    resultat = ['0', '0', '0', '0']\n",
    "    x = range(0,4)\n",
    "    for n in x:\n",
    "        resultat[n] = int(ip[n]) & int(masque[n])\n",
    "    return resultat"
   ]
  },
  {
   "cell_type": "code",
   "execution_count": 51,
   "metadata": {},
   "outputs": [],
   "source": [
    "def TrouverAdresseBroadcast(ip,masque):\n",
    "    masqueCIDR = getNotationCIDR(masque)\n",
    "    ipString = str(ip[0]) + \".\" + str(ip[1]) +\".\" + str(ip[2]) +\".\" + str(ip[3])\n",
    "    ipn= ipaddress.ip_network(str(ipString)+\"/\"+str(masqueCIDR))\n",
    "    return ipn.broadcast_address"
   ]
  },
  {
   "cell_type": "code",
   "execution_count": 70,
   "metadata": {},
   "outputs": [],
   "source": [
    "def trouverAdresseReseau(ip,masque):\n",
    "    indiceClass = 0\n",
    "    for o in masque:\n",
    "        if (o=='255'):\n",
    "            indiceClass = indiceClass+1\n",
    "\n",
    "    indiceMasque = 0\n",
    "    ip[0] = int(ip[0])\n",
    "    if(ip[0]==127 or ip[0]==0 or ip[0] >223):\n",
    "        indiceMasque=0\n",
    "    elif(ip[0]>=0 and ip[0]<=127):\n",
    "        indiceMasque=1\n",
    "    elif(ip[0]>=128 and ip[0]<=191):\n",
    "        indiceMasque=2\n",
    "    elif(ip[0]>=192 and ip[0]<=223):\n",
    "        indiceMasque=3\n",
    "\n",
    "    if(indiceMasque!=indiceClass):\n",
    "        indiceMasque = 0\n",
    "\n",
    "    if indiceMasque==0:\n",
    "        return False\n",
    "\n",
    "    ipReseau = ['0', '0', '0', '0']\n",
    "    x = range(0,indiceMasque)\n",
    "    for n in x:\n",
    "        ipReseau[n] = str(ip[n])\n",
    "    return ipReseau"
   ]
  },
  {
   "cell_type": "code",
   "execution_count": 69,
   "metadata": {},
   "outputs": [],
   "source": [
    "def TrouverAdresseBroadcastClassfull(ip,masque):\n",
    "    indiceClass = 0\n",
    "    for o in masque:\n",
    "        if (o=='255'):\n",
    "            indiceClass = indiceClass+1\n",
    "\n",
    "    indiceMasque = 0\n",
    "    ip[0] = int(ip[0])\n",
    "    if(ip[0]==127 or ip[0]==0 or ip[0] >223):\n",
    "        indiceMasque=0\n",
    "    elif(ip[0]>=0 and ip[0]<=127):\n",
    "        indiceMasque=1\n",
    "    elif(ip[0]>=128 and ip[0]<=191):\n",
    "        indiceMasque=2\n",
    "    elif(ip[0]>=192 and ip[0]<=223):\n",
    "        indiceMasque=3\n",
    "\n",
    "    if(indiceMasque!=indiceClass):\n",
    "        indiceMasque = 0\n",
    "\n",
    "    if indiceMasque==0:\n",
    "        return False\n",
    "\n",
    "    ipReseau = ['255', '255', '255', '255']\n",
    "    x = range(0,indiceMasque)\n",
    "    for n in x:\n",
    "        ipReseau[n] = str(ip[n])\n",
    "    return ipReseau\n"
   ]
  },
  {
   "cell_type": "code",
   "execution_count": 75,
   "metadata": {},
   "outputs": [],
   "source": [
    "ip = ['100', '27', '45', '33']\n",
    "masque = ['255', '0', '0', '0']\n"
   ]
  },
  {
   "cell_type": "code",
   "execution_count": 76,
   "metadata": {},
   "outputs": [
    {
     "name": "stdout",
     "output_type": "stream",
     "text": [
      "['100', '255', '255', '255']\n",
      "['100', '0', '0', '0']\n"
     ]
    }
   ],
   "source": [
    "print(TrouverAdresseBroadcastClassfull(ip,masque))\n",
    "\n",
    "print(trouverAdresseReseau(ip,masque))"
   ]
  }
 ],
 "metadata": {
  "kernelspec": {
   "display_name": "Python 3.10.7 64-bit",
   "language": "python",
   "name": "python3"
  },
  "language_info": {
   "codemirror_mode": {
    "name": "ipython",
    "version": 3
   },
   "file_extension": ".py",
   "mimetype": "text/x-python",
   "name": "python",
   "nbconvert_exporter": "python",
   "pygments_lexer": "ipython3",
   "version": "3.10.7"
  },
  "orig_nbformat": 4,
  "vscode": {
   "interpreter": {
    "hash": "efefc661cc5fd2648ab9debb734f6761e4de0e852bf9ec0690efb7048bae9b24"
   }
  }
 },
 "nbformat": 4,
 "nbformat_minor": 2
}
